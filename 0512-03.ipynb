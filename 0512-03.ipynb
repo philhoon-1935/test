{
 "cells": [
  {
   "cell_type": "code",
   "execution_count": 26,
   "metadata": {},
   "outputs": [
    {
     "name": "stdout",
     "output_type": "stream",
     "text": [
      "독서\n",
      "만들기\n",
      "여행하기\n",
      "['만들기', '여행하기']\n"
     ]
    }
   ],
   "source": [
    "myhobby = ['독서', '만들기', '여행하기']\n",
    "print(myhobby [0])\n",
    "print(myhobby [1])\n",
    "print(myhobby [2])\n",
    "print(myhobby [1:3]) # 첫번째 두번째 가져오기"
   ]
  },
  {
   "cell_type": "code",
   "execution_count": 27,
   "metadata": {},
   "outputs": [
    {
     "name": "stdout",
     "output_type": "stream",
     "text": [
      "독서\n",
      "만들기\n",
      "여행하기\n"
     ]
    }
   ],
   "source": [
    "for item in myhobby:\n",
    "    print(item)"
   ]
  },
  {
   "cell_type": "code",
   "execution_count": 28,
   "metadata": {},
   "outputs": [
    {
     "name": "stdout",
     "output_type": "stream",
     "text": [
      "너의 취미는?독서\n",
      "우리는 같은 취미를 가지고 있다.\n"
     ]
    }
   ],
   "source": [
    "yourhobby=input(\"너의 취미는?\")\n",
    "for item in myhobby:\n",
    "    if yourhobby==item:\n",
    "        print(\"우리는 같은 취미를 가지고 있다.\")\n",
    "    #else:\n",
    "        #(\"우리는 취미가 다르다\")"
   ]
  },
  {
   "cell_type": "code",
   "execution_count": 29,
   "metadata": {},
   "outputs": [],
   "source": [
    "from pandas import Series"
   ]
  },
  {
   "cell_type": "code",
   "execution_count": 30,
   "metadata": {},
   "outputs": [],
   "source": [
    "gildong = Series([1500, 3000, 2500], # series = column 동일\n",
    "   index = ['2019-05-01', '2019-05-02', '2019-05-03'] )\n",
    "toto = Series([3000, 3000, 2000],\n",
    "   index = ['2019-05-01', '2019-05-03', '2019-05-02'] )"
   ]
  },
  {
   "cell_type": "code",
   "execution_count": 33,
   "metadata": {},
   "outputs": [
    {
     "name": "stdout",
     "output_type": "stream",
     "text": [
      "최종 2500 이상의 데이터 개수는 :  4\n"
     ]
    }
   ],
   "source": [
    "count = 0\n",
    "for value in gildong.values:\n",
    "    if value>=2500:\n",
    "        count=count+1\n",
    "for value in toto.values:\n",
    "    if value>=2500:\n",
    "        count=count+1\n",
    "print('최종 2500 이상의 데이터 개수는 : ',count)"
   ]
  },
  {
   "cell_type": "code",
   "execution_count": 34,
   "metadata": {},
   "outputs": [
    {
     "ename": "NameError",
     "evalue": "name 'DataFrame' is not defined",
     "output_type": "error",
     "traceback": [
      "\u001b[1;31m---------------------------------------------------------------------------\u001b[0m",
      "\u001b[1;31mNameError\u001b[0m                                 Traceback (most recent call last)",
      "\u001b[1;32m<ipython-input-34-944468c8e73c>\u001b[0m in \u001b[0;36m<module>\u001b[1;34m\u001b[0m\n\u001b[0;32m      2\u001b[0m         \u001b[1;34m'col2'\u001b[0m \u001b[1;33m:\u001b[0m \u001b[1;33m[\u001b[0m\u001b[1;36m10\u001b[0m\u001b[1;33m,\u001b[0m\u001b[1;36m20\u001b[0m\u001b[1;33m,\u001b[0m\u001b[1;36m30\u001b[0m\u001b[1;33m,\u001b[0m\u001b[1;36m40\u001b[0m\u001b[1;33m]\u001b[0m\u001b[1;33m,\u001b[0m\u001b[1;33m\u001b[0m\u001b[1;33m\u001b[0m\u001b[0m\n\u001b[0;32m      3\u001b[0m         'col3' : ['A', 'B', 'C', 'D'] }\n\u001b[1;32m----> 4\u001b[1;33m \u001b[0mdf\u001b[0m \u001b[1;33m=\u001b[0m \u001b[0mDataFrame\u001b[0m\u001b[1;33m(\u001b[0m\u001b[0mdat\u001b[0m\u001b[1;33m)\u001b[0m \u001b[1;31m# from pandas import DataFrame 의 경우 'DataFrame' 생략 가능\u001b[0m\u001b[1;33m\u001b[0m\u001b[1;33m\u001b[0m\u001b[0m\n\u001b[0m",
      "\u001b[1;31mNameError\u001b[0m: name 'DataFrame' is not defined"
     ]
    }
   ],
   "source": [
    "dat = { 'col1' : [1,2,3,4],\n",
    "        'col2' : [10,20,30,40],\n",
    "        'col3' : ['A', 'B', 'C', 'D'] }\n",
    "df = DataFrame(dat) # from pandas import DataFrame 의 경우 'DataFrame' 생략 가능"
   ]
  },
  {
   "cell_type": "code",
   "execution_count": null,
   "metadata": {},
   "outputs": [],
   "source": []
  }
 ],
 "metadata": {
  "kernelspec": {
   "display_name": "Python 3",
   "language": "python",
   "name": "python3"
  },
  "language_info": {
   "codemirror_mode": {
    "name": "ipython",
    "version": 3
   },
   "file_extension": ".py",
   "mimetype": "text/x-python",
   "name": "python",
   "nbconvert_exporter": "python",
   "pygments_lexer": "ipython3",
   "version": "3.7.1"
  }
 },
 "nbformat": 4,
 "nbformat_minor": 2
}
